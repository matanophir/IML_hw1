{
 "cells": [
  {
   "cell_type": "code",
   "id": "initial_id",
   "metadata": {
    "collapsed": true,
    "ExecuteTime": {
     "end_time": "2024-11-28T15:22:27.090499Z",
     "start_time": "2024-11-28T15:22:27.072166Z"
    }
   },
   "source": [
    "import numpy as np\n",
    "import pandas as pd\n",
    "import matplotlib.pyplot as plt\n",
    "import seaborn as sns\n",
    "from matplotlib import pylab\n",
    "\n",
    "params = {'xtick.labelsize': 18,\n",
    "'ytick.labelsize': 18,\n",
    "'axes.titlesize' : 22,\n",
    "'axes.labelsize' : 20,\n",
    "'legend.fontsize': 18,\n",
    "'legend.title_fontsize': 22,\n",
    "'figure.titlesize': 24 }\n",
    "pylab.rcParams.update(params)"
   ],
   "outputs": [],
   "execution_count": 3
  },
  {
   "metadata": {},
   "cell_type": "code",
   "outputs": [],
   "execution_count": null,
   "source": "",
   "id": "829e8ed96a5e7541"
  }
 ],
 "metadata": {
  "kernelspec": {
   "display_name": "Python 3",
   "language": "python",
   "name": "python3"
  },
  "language_info": {
   "codemirror_mode": {
    "name": "ipython",
    "version": 2
   },
   "file_extension": ".py",
   "mimetype": "text/x-python",
   "name": "python",
   "nbconvert_exporter": "python",
   "pygments_lexer": "ipython2",
   "version": "2.7.6"
  }
 },
 "nbformat": 4,
 "nbformat_minor": 5
}
